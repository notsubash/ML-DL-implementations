{
 "cells": [
  {
   "cell_type": "markdown",
   "metadata": {},
   "source": [
    "# Predicting the fuel efficiency of a car"
   ]
  },
  {
   "cell_type": "code",
   "execution_count": 33,
   "metadata": {},
   "outputs": [],
   "source": [
    "import pandas as pd\n",
    "from sklearn.model_selection import train_test_split\n",
    "import torch\n",
    "from torch.nn.functional import one_hot\n",
    "from torch.utils.data import DataLoader, TensorDataset\n",
    "import torch.nn as nn"
   ]
  },
  {
   "cell_type": "code",
   "execution_count": 7,
   "metadata": {},
   "outputs": [],
   "source": [
    "url = 'http://archive.ics.uci.edu/ml/machine-learning-databases/auto-mpg/auto-mpg.data'\n",
    "column_names = ['MPG', 'Cylinders', 'Displacement', 'Horsepower','Weight','Acceleration','Model Year','Origin']\n",
    "df = pd.read_csv(url, names=column_names, na_values=\"?\", comment='\\t', sep=\" \", skipinitialspace=True)"
   ]
  },
  {
   "cell_type": "code",
   "execution_count": 8,
   "metadata": {},
   "outputs": [
    {
     "data": {
      "text/html": [
       "<div>\n",
       "<style scoped>\n",
       "    .dataframe tbody tr th:only-of-type {\n",
       "        vertical-align: middle;\n",
       "    }\n",
       "\n",
       "    .dataframe tbody tr th {\n",
       "        vertical-align: top;\n",
       "    }\n",
       "\n",
       "    .dataframe thead th {\n",
       "        text-align: right;\n",
       "    }\n",
       "</style>\n",
       "<table border=\"1\" class=\"dataframe\">\n",
       "  <thead>\n",
       "    <tr style=\"text-align: right;\">\n",
       "      <th></th>\n",
       "      <th>MPG</th>\n",
       "      <th>Cylinders</th>\n",
       "      <th>Displacement</th>\n",
       "      <th>Horsepower</th>\n",
       "      <th>Weight</th>\n",
       "      <th>Acceleration</th>\n",
       "      <th>Model Year</th>\n",
       "      <th>Origin</th>\n",
       "    </tr>\n",
       "  </thead>\n",
       "  <tbody>\n",
       "    <tr>\n",
       "      <th>0</th>\n",
       "      <td>18.0</td>\n",
       "      <td>8</td>\n",
       "      <td>307.0</td>\n",
       "      <td>130.0</td>\n",
       "      <td>3504.0</td>\n",
       "      <td>12.0</td>\n",
       "      <td>70</td>\n",
       "      <td>1</td>\n",
       "    </tr>\n",
       "    <tr>\n",
       "      <th>1</th>\n",
       "      <td>15.0</td>\n",
       "      <td>8</td>\n",
       "      <td>350.0</td>\n",
       "      <td>165.0</td>\n",
       "      <td>3693.0</td>\n",
       "      <td>11.5</td>\n",
       "      <td>70</td>\n",
       "      <td>1</td>\n",
       "    </tr>\n",
       "    <tr>\n",
       "      <th>2</th>\n",
       "      <td>18.0</td>\n",
       "      <td>8</td>\n",
       "      <td>318.0</td>\n",
       "      <td>150.0</td>\n",
       "      <td>3436.0</td>\n",
       "      <td>11.0</td>\n",
       "      <td>70</td>\n",
       "      <td>1</td>\n",
       "    </tr>\n",
       "    <tr>\n",
       "      <th>3</th>\n",
       "      <td>16.0</td>\n",
       "      <td>8</td>\n",
       "      <td>304.0</td>\n",
       "      <td>150.0</td>\n",
       "      <td>3433.0</td>\n",
       "      <td>12.0</td>\n",
       "      <td>70</td>\n",
       "      <td>1</td>\n",
       "    </tr>\n",
       "    <tr>\n",
       "      <th>4</th>\n",
       "      <td>17.0</td>\n",
       "      <td>8</td>\n",
       "      <td>302.0</td>\n",
       "      <td>140.0</td>\n",
       "      <td>3449.0</td>\n",
       "      <td>10.5</td>\n",
       "      <td>70</td>\n",
       "      <td>1</td>\n",
       "    </tr>\n",
       "  </tbody>\n",
       "</table>\n",
       "</div>"
      ],
      "text/plain": [
       "    MPG  Cylinders  Displacement  Horsepower  Weight  Acceleration  \\\n",
       "0  18.0          8         307.0       130.0  3504.0          12.0   \n",
       "1  15.0          8         350.0       165.0  3693.0          11.5   \n",
       "2  18.0          8         318.0       150.0  3436.0          11.0   \n",
       "3  16.0          8         304.0       150.0  3433.0          12.0   \n",
       "4  17.0          8         302.0       140.0  3449.0          10.5   \n",
       "\n",
       "   Model Year  Origin  \n",
       "0          70       1  \n",
       "1          70       1  \n",
       "2          70       1  \n",
       "3          70       1  \n",
       "4          70       1  "
      ]
     },
     "execution_count": 8,
     "metadata": {},
     "output_type": "execute_result"
    }
   ],
   "source": [
    "df.head()"
   ]
  },
  {
   "cell_type": "code",
   "execution_count": 9,
   "metadata": {},
   "outputs": [
    {
     "data": {
      "text/plain": [
       "(398, 8)"
      ]
     },
     "execution_count": 9,
     "metadata": {},
     "output_type": "execute_result"
    }
   ],
   "source": [
    "df.shape"
   ]
  },
  {
   "cell_type": "code",
   "execution_count": 10,
   "metadata": {},
   "outputs": [],
   "source": [
    "# dropping the NA rows\n",
    "df = df.dropna()\n",
    "df = df.reset_index(drop=True)"
   ]
  },
  {
   "cell_type": "code",
   "execution_count": 11,
   "metadata": {},
   "outputs": [
    {
     "data": {
      "text/plain": [
       "(392, 8)"
      ]
     },
     "execution_count": 11,
     "metadata": {},
     "output_type": "execute_result"
    }
   ],
   "source": [
    "df.shape"
   ]
  },
  {
   "cell_type": "code",
   "execution_count": 12,
   "metadata": {},
   "outputs": [],
   "source": [
    "# Train/test split\n",
    "df_train, df_test = train_test_split(df, test_size=0.2, random_state=1)"
   ]
  },
  {
   "cell_type": "code",
   "execution_count": 13,
   "metadata": {},
   "outputs": [],
   "source": [
    "train_stats = df_train.describe().transpose()"
   ]
  },
  {
   "cell_type": "code",
   "execution_count": 17,
   "metadata": {},
   "outputs": [],
   "source": [
    "numeric_column_names = ['Cylinders', 'Displacement', 'Horsepower', 'Weight', 'Acceleration']"
   ]
  },
  {
   "cell_type": "code",
   "execution_count": 18,
   "metadata": {},
   "outputs": [],
   "source": [
    "df_train_norm, df_test_norm = df_train.copy(), df_test.copy()"
   ]
  },
  {
   "cell_type": "code",
   "execution_count": 19,
   "metadata": {},
   "outputs": [
    {
     "name": "stderr",
     "output_type": "stream",
     "text": [
      "/var/folders/2n/_8jmmysn22sbx4zjv3c2lm980000gn/T/ipykernel_68509/2894848293.py:4: FutureWarning: Setting an item of incompatible dtype is deprecated and will raise in a future error of pandas. Value '[-0.8243028   0.3511267  -0.8243028  -0.8243028  -0.8243028   1.52655621\n",
      "  0.3511267  -0.8243028  -0.8243028  -0.8243028   0.3511267  -0.8243028\n",
      "  0.3511267   1.52655621  1.52655621  1.52655621  0.3511267   1.52655621\n",
      " -0.8243028   0.3511267   1.52655621 -0.8243028  -0.8243028   0.3511267\n",
      " -0.8243028  -0.8243028  -0.8243028   0.3511267  -0.8243028   1.52655621\n",
      "  0.3511267  -0.8243028   0.3511267  -0.8243028  -0.8243028   1.52655621\n",
      " -0.8243028   1.52655621  1.52655621 -0.8243028  -0.8243028  -0.8243028\n",
      " -0.8243028   0.3511267  -0.8243028   1.52655621 -0.8243028  -0.8243028\n",
      "  1.52655621 -0.8243028  -0.8243028  -0.8243028   1.52655621  1.52655621\n",
      "  0.3511267   0.3511267   1.52655621 -0.8243028  -0.8243028   1.52655621\n",
      "  1.52655621 -0.8243028  -0.8243028   0.3511267   1.52655621 -0.8243028\n",
      "  0.3511267  -0.8243028   1.52655621  1.52655621 -0.8243028  -0.8243028\n",
      " -1.41201755  1.52655621  0.3511267   1.52655621 -0.8243028  -0.8243028\n",
      " -0.8243028   1.52655621  1.52655621  0.3511267   0.3511267   1.52655621\n",
      " -0.8243028   1.52655621 -0.23658805 -0.8243028  -0.8243028   0.3511267\n",
      "  0.3511267  -1.41201755 -0.8243028   1.52655621 -0.8243028   1.52655621\n",
      " -0.8243028   1.52655621  0.3511267  -0.8243028   0.3511267  -1.41201755\n",
      "  0.3511267  -0.8243028  -0.8243028  -0.8243028  -0.8243028  -0.8243028\n",
      " -0.8243028   1.52655621  1.52655621 -0.8243028   0.3511267  -0.8243028\n",
      " -0.8243028   0.3511267   1.52655621 -0.8243028  -0.8243028   0.3511267\n",
      "  0.3511267  -0.8243028  -0.8243028  -0.23658805 -0.8243028   0.3511267\n",
      "  0.3511267   0.3511267  -0.8243028   1.52655621  1.52655621 -0.8243028\n",
      "  0.3511267   1.52655621  1.52655621 -0.8243028   0.3511267   0.3511267\n",
      " -0.8243028  -0.8243028  -0.8243028  -0.8243028   1.52655621 -0.8243028\n",
      " -0.8243028   0.3511267  -0.8243028  -0.8243028   1.52655621 -0.8243028\n",
      "  1.52655621 -0.8243028  -0.8243028   1.52655621  1.52655621 -0.8243028\n",
      "  0.3511267  -0.8243028   1.52655621  0.3511267  -0.8243028   1.52655621\n",
      " -0.8243028  -0.8243028   1.52655621  1.52655621 -0.8243028   1.52655621\n",
      "  0.3511267  -0.8243028  -0.8243028   0.3511267   1.52655621  1.52655621\n",
      " -0.8243028  -0.8243028  -0.8243028  -0.8243028  -0.8243028  -0.8243028\n",
      " -0.8243028   1.52655621 -0.8243028   0.3511267   1.52655621 -0.8243028\n",
      " -0.23658805 -0.8243028  -0.8243028  -0.8243028  -0.8243028  -0.8243028\n",
      "  0.3511267  -0.8243028  -0.8243028   1.52655621  1.52655621 -0.8243028\n",
      "  1.52655621 -0.8243028   1.52655621 -0.8243028  -0.8243028  -0.8243028\n",
      " -0.8243028   0.3511267  -0.8243028   1.52655621 -0.8243028   0.3511267\n",
      "  1.52655621 -0.8243028  -0.8243028  -0.8243028   0.3511267  -0.8243028\n",
      " -0.8243028  -0.8243028  -0.8243028   0.3511267  -0.8243028   1.52655621\n",
      " -0.8243028  -0.8243028  -0.8243028   1.52655621 -0.8243028   1.52655621\n",
      " -0.8243028   0.3511267  -0.8243028   0.3511267  -0.8243028  -0.8243028\n",
      "  0.3511267   1.52655621 -0.8243028   0.3511267   1.52655621  0.3511267\n",
      " -0.8243028  -0.8243028  -0.8243028   1.52655621  1.52655621 -0.8243028\n",
      " -0.8243028  -0.8243028   1.52655621  0.3511267   0.3511267  -0.8243028\n",
      " -0.8243028  -0.8243028   1.52655621  0.3511267   0.3511267   0.3511267\n",
      "  1.52655621 -0.8243028   1.52655621  0.3511267  -0.8243028  -0.8243028\n",
      " -0.8243028  -0.8243028   1.52655621 -0.8243028   1.52655621 -0.8243028\n",
      "  1.52655621 -0.8243028  -0.8243028  -0.8243028  -0.8243028  -0.8243028\n",
      "  1.52655621 -0.8243028  -0.8243028  -0.8243028   0.3511267  -0.8243028\n",
      "  1.52655621 -0.8243028  -0.8243028  -0.8243028  -0.8243028   1.52655621\n",
      " -0.8243028   1.52655621 -0.8243028  -1.41201755 -0.8243028   1.52655621\n",
      " -0.8243028   1.52655621  0.3511267   0.3511267   0.3511267  -0.8243028\n",
      " -0.8243028   0.3511267  -0.8243028   1.52655621 -0.8243028  -0.8243028\n",
      " -0.8243028   0.3511267  -0.8243028   0.3511267   1.52655621 -0.8243028\n",
      "  1.52655621]' has dtype incompatible with int64, please explicitly cast to a compatible dtype first.\n",
      "  df_train_norm.loc[:, col_name] = (df_train_norm.loc[:, col_name] - mean) / std\n",
      "/var/folders/2n/_8jmmysn22sbx4zjv3c2lm980000gn/T/ipykernel_68509/2894848293.py:5: FutureWarning: Setting an item of incompatible dtype is deprecated and will raise in a future error of pandas. Value '[-0.8243028  -0.8243028  -0.8243028  -0.8243028  -0.8243028  -0.8243028\n",
      " -0.8243028   1.52655621 -0.8243028  -0.8243028   0.3511267  -0.8243028\n",
      "  1.52655621 -0.8243028  -0.8243028   1.52655621 -0.8243028  -0.8243028\n",
      "  1.52655621  0.3511267  -0.8243028   0.3511267   1.52655621  1.52655621\n",
      "  1.52655621  1.52655621 -0.8243028   0.3511267   0.3511267  -0.8243028\n",
      "  1.52655621 -0.8243028   1.52655621  0.3511267   0.3511267   1.52655621\n",
      "  0.3511267   0.3511267  -0.8243028  -0.8243028   1.52655621  1.52655621\n",
      "  0.3511267   0.3511267   0.3511267   0.3511267   1.52655621 -0.8243028\n",
      "  0.3511267   1.52655621  1.52655621  0.3511267  -0.8243028  -0.8243028\n",
      " -0.8243028   0.3511267   0.3511267   0.3511267  -0.8243028  -0.8243028\n",
      "  0.3511267  -0.8243028  -0.8243028   1.52655621  0.3511267   0.3511267\n",
      " -0.8243028   1.52655621 -0.8243028   1.52655621 -0.8243028   1.52655621\n",
      "  1.52655621 -0.8243028  -0.8243028  -0.8243028   1.52655621  1.52655621\n",
      "  1.52655621]' has dtype incompatible with int64, please explicitly cast to a compatible dtype first.\n",
      "  df_test_norm.loc[:, col_name] = (df_test_norm.loc[:, col_name] - mean) / std\n"
     ]
    }
   ],
   "source": [
    "for col_name in numeric_column_names:\n",
    "    mean = train_stats.loc[col_name, 'mean']\n",
    "    std = train_stats.loc[col_name, 'std']\n",
    "    df_train_norm.loc[:, col_name] = (df_train_norm.loc[:, col_name] - mean) / std\n",
    "    df_test_norm.loc[:, col_name] = (df_test_norm.loc[:, col_name] - mean) / std"
   ]
  },
  {
   "cell_type": "code",
   "execution_count": 20,
   "metadata": {},
   "outputs": [
    {
     "data": {
      "text/html": [
       "<div>\n",
       "<style scoped>\n",
       "    .dataframe tbody tr th:only-of-type {\n",
       "        vertical-align: middle;\n",
       "    }\n",
       "\n",
       "    .dataframe tbody tr th {\n",
       "        vertical-align: top;\n",
       "    }\n",
       "\n",
       "    .dataframe thead th {\n",
       "        text-align: right;\n",
       "    }\n",
       "</style>\n",
       "<table border=\"1\" class=\"dataframe\">\n",
       "  <thead>\n",
       "    <tr style=\"text-align: right;\">\n",
       "      <th></th>\n",
       "      <th>MPG</th>\n",
       "      <th>Cylinders</th>\n",
       "      <th>Displacement</th>\n",
       "      <th>Horsepower</th>\n",
       "      <th>Weight</th>\n",
       "      <th>Acceleration</th>\n",
       "      <th>Model Year</th>\n",
       "      <th>Origin</th>\n",
       "    </tr>\n",
       "  </thead>\n",
       "  <tbody>\n",
       "    <tr>\n",
       "      <th>203</th>\n",
       "      <td>28.0</td>\n",
       "      <td>-0.824303</td>\n",
       "      <td>-0.901020</td>\n",
       "      <td>-0.736562</td>\n",
       "      <td>-0.950031</td>\n",
       "      <td>0.255202</td>\n",
       "      <td>76</td>\n",
       "      <td>3</td>\n",
       "    </tr>\n",
       "    <tr>\n",
       "      <th>255</th>\n",
       "      <td>19.4</td>\n",
       "      <td>0.351127</td>\n",
       "      <td>0.413800</td>\n",
       "      <td>-0.340982</td>\n",
       "      <td>0.293190</td>\n",
       "      <td>0.548737</td>\n",
       "      <td>78</td>\n",
       "      <td>1</td>\n",
       "    </tr>\n",
       "    <tr>\n",
       "      <th>72</th>\n",
       "      <td>13.0</td>\n",
       "      <td>1.526556</td>\n",
       "      <td>1.144256</td>\n",
       "      <td>0.713897</td>\n",
       "      <td>1.339617</td>\n",
       "      <td>-0.625403</td>\n",
       "      <td>72</td>\n",
       "      <td>1</td>\n",
       "    </tr>\n",
       "    <tr>\n",
       "      <th>235</th>\n",
       "      <td>30.5</td>\n",
       "      <td>-0.824303</td>\n",
       "      <td>-0.891280</td>\n",
       "      <td>-1.053025</td>\n",
       "      <td>-1.072585</td>\n",
       "      <td>0.475353</td>\n",
       "      <td>77</td>\n",
       "      <td>1</td>\n",
       "    </tr>\n",
       "    <tr>\n",
       "      <th>37</th>\n",
       "      <td>14.0</td>\n",
       "      <td>1.526556</td>\n",
       "      <td>1.563051</td>\n",
       "      <td>1.636916</td>\n",
       "      <td>1.470420</td>\n",
       "      <td>-1.359240</td>\n",
       "      <td>71</td>\n",
       "      <td>1</td>\n",
       "    </tr>\n",
       "  </tbody>\n",
       "</table>\n",
       "</div>"
      ],
      "text/plain": [
       "      MPG  Cylinders  Displacement  Horsepower    Weight  Acceleration  \\\n",
       "203  28.0  -0.824303     -0.901020   -0.736562 -0.950031      0.255202   \n",
       "255  19.4   0.351127      0.413800   -0.340982  0.293190      0.548737   \n",
       "72   13.0   1.526556      1.144256    0.713897  1.339617     -0.625403   \n",
       "235  30.5  -0.824303     -0.891280   -1.053025 -1.072585      0.475353   \n",
       "37   14.0   1.526556      1.563051    1.636916  1.470420     -1.359240   \n",
       "\n",
       "     Model Year  Origin  \n",
       "203          76       3  \n",
       "255          78       1  \n",
       "72           72       1  \n",
       "235          77       1  \n",
       "37           71       1  "
      ]
     },
     "execution_count": 20,
     "metadata": {},
     "output_type": "execute_result"
    }
   ],
   "source": [
    "df_train_norm.tail()"
   ]
  },
  {
   "cell_type": "code",
   "execution_count": 24,
   "metadata": {},
   "outputs": [
    {
     "data": {
      "text/plain": [
       "'\\nbucket = 0 if year < 73\\nbucket = 1 if year >= 73 and year <=76\\nbucket = 2 if year >= 76 and year <= 79\\nbucket = 3 if year >= 79\\n'"
      ]
     },
     "execution_count": 24,
     "metadata": {},
     "output_type": "execute_result"
    }
   ],
   "source": [
    "# bucketing the ModelYear into categorical variables\n",
    "'''\n",
    "bucket = 0 if year < 73\n",
    "bucket = 1 if year >= 73 and year <=76\n",
    "bucket = 2 if year >= 76 and year <= 79\n",
    "bucket = 3 if year >= 79\n",
    "'''\n"
   ]
  },
  {
   "cell_type": "code",
   "execution_count": 26,
   "metadata": {},
   "outputs": [],
   "source": [
    "boundaries = torch.tensor([73,76,79])\n",
    "v = torch.tensor(df_train_norm['Model Year'].values)\n",
    "df_train_norm['Model Year Bucketed'] = torch.bucketize(v, boundaries, right=True)\n",
    "v = torch.tensor(df_test_norm['Model Year'].values)\n",
    "df_test_norm['Model Year Bucketed'] = torch.bucketize(v, boundaries, right=True)\n",
    "numeric_column_names.append('Model Year Bucketed')"
   ]
  },
  {
   "cell_type": "code",
   "execution_count": 27,
   "metadata": {},
   "outputs": [
    {
     "data": {
      "text/html": [
       "<div>\n",
       "<style scoped>\n",
       "    .dataframe tbody tr th:only-of-type {\n",
       "        vertical-align: middle;\n",
       "    }\n",
       "\n",
       "    .dataframe tbody tr th {\n",
       "        vertical-align: top;\n",
       "    }\n",
       "\n",
       "    .dataframe thead th {\n",
       "        text-align: right;\n",
       "    }\n",
       "</style>\n",
       "<table border=\"1\" class=\"dataframe\">\n",
       "  <thead>\n",
       "    <tr style=\"text-align: right;\">\n",
       "      <th></th>\n",
       "      <th>MPG</th>\n",
       "      <th>Cylinders</th>\n",
       "      <th>Displacement</th>\n",
       "      <th>Horsepower</th>\n",
       "      <th>Weight</th>\n",
       "      <th>Acceleration</th>\n",
       "      <th>Model Year</th>\n",
       "      <th>Origin</th>\n",
       "      <th>Model Year Bucketed</th>\n",
       "    </tr>\n",
       "  </thead>\n",
       "  <tbody>\n",
       "    <tr>\n",
       "      <th>334</th>\n",
       "      <td>27.2</td>\n",
       "      <td>-0.824303</td>\n",
       "      <td>-0.530922</td>\n",
       "      <td>-0.499214</td>\n",
       "      <td>-0.555264</td>\n",
       "      <td>-0.001641</td>\n",
       "      <td>81</td>\n",
       "      <td>1</td>\n",
       "      <td>3</td>\n",
       "    </tr>\n",
       "    <tr>\n",
       "      <th>258</th>\n",
       "      <td>18.6</td>\n",
       "      <td>0.351127</td>\n",
       "      <td>0.345625</td>\n",
       "      <td>0.186457</td>\n",
       "      <td>0.776338</td>\n",
       "      <td>1.099115</td>\n",
       "      <td>78</td>\n",
       "      <td>1</td>\n",
       "      <td>2</td>\n",
       "    </tr>\n",
       "    <tr>\n",
       "      <th>139</th>\n",
       "      <td>29.0</td>\n",
       "      <td>-0.824303</td>\n",
       "      <td>-0.891280</td>\n",
       "      <td>-0.525586</td>\n",
       "      <td>-0.874613</td>\n",
       "      <td>0.291894</td>\n",
       "      <td>74</td>\n",
       "      <td>2</td>\n",
       "      <td>1</td>\n",
       "    </tr>\n",
       "    <tr>\n",
       "      <th>310</th>\n",
       "      <td>37.2</td>\n",
       "      <td>-0.824303</td>\n",
       "      <td>-1.008153</td>\n",
       "      <td>-1.000281</td>\n",
       "      <td>-1.110294</td>\n",
       "      <td>0.255202</td>\n",
       "      <td>80</td>\n",
       "      <td>3</td>\n",
       "      <td>3</td>\n",
       "    </tr>\n",
       "    <tr>\n",
       "      <th>349</th>\n",
       "      <td>33.0</td>\n",
       "      <td>-0.824303</td>\n",
       "      <td>-0.823104</td>\n",
       "      <td>-0.762934</td>\n",
       "      <td>-0.908786</td>\n",
       "      <td>-0.552019</td>\n",
       "      <td>81</td>\n",
       "      <td>2</td>\n",
       "      <td>3</td>\n",
       "    </tr>\n",
       "  </tbody>\n",
       "</table>\n",
       "</div>"
      ],
      "text/plain": [
       "      MPG  Cylinders  Displacement  Horsepower    Weight  Acceleration  \\\n",
       "334  27.2  -0.824303     -0.530922   -0.499214 -0.555264     -0.001641   \n",
       "258  18.6   0.351127      0.345625    0.186457  0.776338      1.099115   \n",
       "139  29.0  -0.824303     -0.891280   -0.525586 -0.874613      0.291894   \n",
       "310  37.2  -0.824303     -1.008153   -1.000281 -1.110294      0.255202   \n",
       "349  33.0  -0.824303     -0.823104   -0.762934 -0.908786     -0.552019   \n",
       "\n",
       "     Model Year  Origin  Model Year Bucketed  \n",
       "334          81       1                    3  \n",
       "258          78       1                    2  \n",
       "139          74       2                    1  \n",
       "310          80       3                    3  \n",
       "349          81       2                    3  "
      ]
     },
     "execution_count": 27,
     "metadata": {},
     "output_type": "execute_result"
    }
   ],
   "source": [
    "df_train_norm.head()"
   ]
  },
  {
   "cell_type": "code",
   "execution_count": 29,
   "metadata": {},
   "outputs": [],
   "source": [
    "# one hot encoding\n",
    "total_origin = len(set(df_train_norm['Origin']))\n",
    "origin_encoded = one_hot(torch.from_numpy(df_train_norm['Origin'].values) % total_origin)\n",
    "x_train_numeric = torch.tensor(df_train_norm[numeric_column_names].values)\n",
    "x_train = torch.cat([x_train_numeric, origin_encoded], dim=1).float()\n",
    "origin_encoded = one_hot(torch.from_numpy(df_test_norm['Origin'].values) % total_origin)\n",
    "x_test_numeric = torch.tensor(df_test_norm[numeric_column_names].values)\n",
    "x_test = torch.cat([x_test_numeric, origin_encoded], dim=1).float()"
   ]
  },
  {
   "cell_type": "code",
   "execution_count": 30,
   "metadata": {},
   "outputs": [],
   "source": [
    "# creating the label tensors from the ground truth MPG values\n",
    "y_train = torch.tensor(df_train_norm['MPG'].values).float()\n",
    "y_test = torch.tensor(df_test_norm['MPG'].values).float()"
   ]
  },
  {
   "cell_type": "markdown",
   "metadata": {},
   "source": [
    "### Training a DNN regression model"
   ]
  },
  {
   "cell_type": "code",
   "execution_count": 32,
   "metadata": {},
   "outputs": [],
   "source": [
    "# dataloader with batch size 8\n",
    "train_ds = TensorDataset(x_train, y_train)\n",
    "batch_size = 8\n",
    "torch.manual_seed(1)\n",
    "train_dl = DataLoader(train_ds, batch_size=batch_size, shuffle=True)"
   ]
  },
  {
   "cell_type": "code",
   "execution_count": 34,
   "metadata": {},
   "outputs": [
    {
     "data": {
      "text/plain": [
       "Sequential(\n",
       "  (0): Linear(in_features=9, out_features=8, bias=True)\n",
       "  (1): ReLU()\n",
       "  (2): Linear(in_features=8, out_features=4, bias=True)\n",
       "  (3): ReLU()\n",
       "  (4): Linear(in_features=4, out_features=1, bias=True)\n",
       ")"
      ]
     },
     "execution_count": 34,
     "metadata": {},
     "output_type": "execute_result"
    }
   ],
   "source": [
    "# building a model with two fully connected layers where one has 8 hidden units and another has 4 hidden units\n",
    "hidden_units = [8, 4]\n",
    "input_size = x_train.shape[1]\n",
    "all_layers = []\n",
    "for hidden_unit in hidden_units:\n",
    "    layer = nn.Linear(input_size, hidden_unit)\n",
    "    all_layers.append(layer)\n",
    "    all_layers.append(nn.ReLU())\n",
    "    input_size = hidden_unit\n",
    "all_layers.append(nn.Linear(hidden_units[-1], 1))\n",
    "model = nn.Sequential(*all_layers)\n",
    "model"
   ]
  },
  {
   "cell_type": "code",
   "execution_count": 35,
   "metadata": {},
   "outputs": [],
   "source": [
    "# loss function and optimizer\n",
    "loss_fn = nn.MSELoss()\n",
    "optimizer = torch.optim.SGD(model.parameters(), lr=0.001)"
   ]
  },
  {
   "cell_type": "code",
   "execution_count": 36,
   "metadata": {},
   "outputs": [
    {
     "name": "stdout",
     "output_type": "stream",
     "text": [
      "Epoch 0 Loss 536.1047\n",
      "Epoch 20 Loss 8.4361\n",
      "Epoch 40 Loss 7.8695\n",
      "Epoch 60 Loss 7.1891\n",
      "Epoch 80 Loss 6.7064\n",
      "Epoch 100 Loss 6.7603\n",
      "Epoch 120 Loss 6.3107\n",
      "Epoch 140 Loss 6.6884\n",
      "Epoch 160 Loss 6.7549\n",
      "Epoch 180 Loss 6.2029\n"
     ]
    }
   ],
   "source": [
    "# training the model for 200 epochs\n",
    "torch.manual_seed(1)\n",
    "num_epochs = 200\n",
    "log_epochs = 20\n",
    "for epoch in range(num_epochs):\n",
    "    loss_hist_train = 0\n",
    "    for x_batch, y_batch in train_dl:\n",
    "        pred = model(x_batch)[:, 0]\n",
    "        loss = loss_fn(pred, y_batch)\n",
    "        loss.backward()\n",
    "        optimizer.step()\n",
    "        optimizer.zero_grad()\n",
    "        loss_hist_train += loss.item()\n",
    "    if epoch % log_epochs == 0:\n",
    "        print(f'Epoch {epoch} Loss '\n",
    "              f'{loss_hist_train/len(train_dl):.4f}')"
   ]
  },
  {
   "cell_type": "code",
   "execution_count": 37,
   "metadata": {},
   "outputs": [
    {
     "name": "stdout",
     "output_type": "stream",
     "text": [
      "Test MSE: 9.5907\n",
      "Test MAE: 2.1177\n"
     ]
    }
   ],
   "source": [
    "# evaluating the model\n",
    "with torch.no_grad():\n",
    "    pred = model(x_test.float())[:, 0]\n",
    "    loss = loss_fn(pred, y_test)\n",
    "    print(f'Test MSE: {loss.item():.4f}')\n",
    "    print(f'Test MAE: {nn.L1Loss()(pred, y_test).item():.4f}')"
   ]
  },
  {
   "cell_type": "markdown",
   "metadata": {},
   "source": [
    "The MSE on the test set is 9.6, and the mean absolute error (MAE) is 2.1"
   ]
  },
  {
   "cell_type": "markdown",
   "metadata": {},
   "source": []
  }
 ],
 "metadata": {
  "kernelspec": {
   "display_name": "subash-pandey-jvfq-machine-learning-new-vz-Rrc3MWra-py3.12",
   "language": "python",
   "name": "python3"
  },
  "language_info": {
   "codemirror_mode": {
    "name": "ipython",
    "version": 3
   },
   "file_extension": ".py",
   "mimetype": "text/x-python",
   "name": "python",
   "nbconvert_exporter": "python",
   "pygments_lexer": "ipython3",
   "version": "3.12.6"
  }
 },
 "nbformat": 4,
 "nbformat_minor": 2
}
